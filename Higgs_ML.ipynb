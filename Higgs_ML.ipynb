{
 "cells": [
  {
   "cell_type": "code",
   "execution_count": 1,
   "id": "45197892-5f56-4cac-857a-80ee548df4b8",
   "metadata": {},
   "outputs": [],
   "source": [
    "# Necessary libraries\n",
    "\n",
    "import numpy as np\n",
    "import pandas as pd\n",
    "import seaborn as sns\n",
    "import matplotlib.pyplot as plt\n",
    "\n",
    "from sklearn.ensemble import ExtraTreesClassifier\n",
    "from sklearn.neighbors import KNeighborsClassifier\n",
    "\n",
    "from sklearn.model_selection import KFold\n",
    "from sklearn.model_selection import GridSearchCV\n",
    "from sklearn.model_selection import train_test_split\n",
    "from sklearn.preprocessing import StandardScaler\n",
    "from sklearn.metrics import roc_auc_score\n",
    "\n",
    "import tensorflow as tf\n",
    "from tensorflow.keras import layers\n",
    "\n",
    "sns.set_theme()"
   ]
  },
  {
   "cell_type": "markdown",
   "id": "80d8e9f5-ae23-49ec-8a36-85676ceb083a",
   "metadata": {},
   "source": [
    "# Data preparation"
   ]
  },
  {
   "cell_type": "code",
   "execution_count": 2,
   "id": "53b2a700-6018-4a70-922d-aa4560e950da",
   "metadata": {},
   "outputs": [
    {
     "data": {
      "text/html": [
       "<div>\n",
       "<style scoped>\n",
       "    .dataframe tbody tr th:only-of-type {\n",
       "        vertical-align: middle;\n",
       "    }\n",
       "\n",
       "    .dataframe tbody tr th {\n",
       "        vertical-align: top;\n",
       "    }\n",
       "\n",
       "    .dataframe thead th {\n",
       "        text-align: right;\n",
       "    }\n",
       "</style>\n",
       "<table border=\"1\" class=\"dataframe\">\n",
       "  <thead>\n",
       "    <tr style=\"text-align: right;\">\n",
       "      <th></th>\n",
       "      <th>0</th>\n",
       "      <th>1</th>\n",
       "      <th>2</th>\n",
       "      <th>3</th>\n",
       "      <th>4</th>\n",
       "      <th>5</th>\n",
       "      <th>6</th>\n",
       "      <th>7</th>\n",
       "      <th>8</th>\n",
       "      <th>9</th>\n",
       "      <th>...</th>\n",
       "      <th>19</th>\n",
       "      <th>20</th>\n",
       "      <th>21</th>\n",
       "      <th>22</th>\n",
       "      <th>23</th>\n",
       "      <th>24</th>\n",
       "      <th>25</th>\n",
       "      <th>26</th>\n",
       "      <th>27</th>\n",
       "      <th>28</th>\n",
       "    </tr>\n",
       "  </thead>\n",
       "  <tbody>\n",
       "    <tr>\n",
       "      <th>0</th>\n",
       "      <td>1.0</td>\n",
       "      <td>0.869293</td>\n",
       "      <td>-0.635082</td>\n",
       "      <td>0.225690</td>\n",
       "      <td>0.327470</td>\n",
       "      <td>-0.689993</td>\n",
       "      <td>0.754202</td>\n",
       "      <td>-0.248573</td>\n",
       "      <td>-1.092064</td>\n",
       "      <td>0.0</td>\n",
       "      <td>...</td>\n",
       "      <td>-0.010455</td>\n",
       "      <td>-0.045767</td>\n",
       "      <td>3.101961</td>\n",
       "      <td>1.353760</td>\n",
       "      <td>0.979563</td>\n",
       "      <td>0.978076</td>\n",
       "      <td>0.920005</td>\n",
       "      <td>0.721657</td>\n",
       "      <td>0.988751</td>\n",
       "      <td>0.876678</td>\n",
       "    </tr>\n",
       "    <tr>\n",
       "      <th>1</th>\n",
       "      <td>0.0</td>\n",
       "      <td>1.630428</td>\n",
       "      <td>0.404143</td>\n",
       "      <td>0.401026</td>\n",
       "      <td>2.722409</td>\n",
       "      <td>0.355644</td>\n",
       "      <td>1.362199</td>\n",
       "      <td>0.015818</td>\n",
       "      <td>-1.174111</td>\n",
       "      <td>0.0</td>\n",
       "      <td>...</td>\n",
       "      <td>0.387635</td>\n",
       "      <td>1.596321</td>\n",
       "      <td>1.550981</td>\n",
       "      <td>0.859235</td>\n",
       "      <td>0.827233</td>\n",
       "      <td>0.995416</td>\n",
       "      <td>0.764766</td>\n",
       "      <td>0.520597</td>\n",
       "      <td>0.850413</td>\n",
       "      <td>0.929865</td>\n",
       "    </tr>\n",
       "    <tr>\n",
       "      <th>2</th>\n",
       "      <td>1.0</td>\n",
       "      <td>0.326305</td>\n",
       "      <td>-0.797735</td>\n",
       "      <td>0.223471</td>\n",
       "      <td>1.248234</td>\n",
       "      <td>-1.427857</td>\n",
       "      <td>0.923767</td>\n",
       "      <td>-0.278280</td>\n",
       "      <td>-0.470052</td>\n",
       "      <td>0.0</td>\n",
       "      <td>...</td>\n",
       "      <td>-0.426866</td>\n",
       "      <td>1.153501</td>\n",
       "      <td>0.000000</td>\n",
       "      <td>0.887944</td>\n",
       "      <td>0.924601</td>\n",
       "      <td>0.987189</td>\n",
       "      <td>0.854094</td>\n",
       "      <td>0.385013</td>\n",
       "      <td>0.789912</td>\n",
       "      <td>0.724627</td>\n",
       "    </tr>\n",
       "  </tbody>\n",
       "</table>\n",
       "<p>3 rows × 29 columns</p>\n",
       "</div>"
      ],
      "text/plain": [
       "    0         1         2         3         4         5         6         7   \\\n",
       "0  1.0  0.869293 -0.635082  0.225690  0.327470 -0.689993  0.754202 -0.248573   \n",
       "1  0.0  1.630428  0.404143  0.401026  2.722409  0.355644  1.362199  0.015818   \n",
       "2  1.0  0.326305 -0.797735  0.223471  1.248234 -1.427857  0.923767 -0.278280   \n",
       "\n",
       "         8    9   ...        19        20        21        22        23  \\\n",
       "0 -1.092064  0.0  ... -0.010455 -0.045767  3.101961  1.353760  0.979563   \n",
       "1 -1.174111  0.0  ...  0.387635  1.596321  1.550981  0.859235  0.827233   \n",
       "2 -0.470052  0.0  ... -0.426866  1.153501  0.000000  0.887944  0.924601   \n",
       "\n",
       "         24        25        26        27        28  \n",
       "0  0.978076  0.920005  0.721657  0.988751  0.876678  \n",
       "1  0.995416  0.764766  0.520597  0.850413  0.929865  \n",
       "2  0.987189  0.854094  0.385013  0.789912  0.724627  \n",
       "\n",
       "[3 rows x 29 columns]"
      ]
     },
     "execution_count": 2,
     "metadata": {},
     "output_type": "execute_result"
    }
   ],
   "source": [
    "# importing data\n",
    "\n",
    "df = pd.read_csv(\"HIGGS_8K.csv\", header=None)\n",
    "df.head(3)"
   ]
  },
  {
   "cell_type": "code",
   "execution_count": 3,
   "id": "13f9c7c9-792d-4f62-a4d9-63e1b038d3b8",
   "metadata": {},
   "outputs": [
    {
     "name": "stdout",
     "output_type": "stream",
     "text": [
      "<class 'pandas.core.frame.DataFrame'>\n",
      "RangeIndex: 8001 entries, 0 to 8000\n",
      "Data columns (total 29 columns):\n",
      " #   Column  Non-Null Count  Dtype  \n",
      "---  ------  --------------  -----  \n",
      " 0   0       8001 non-null   float64\n",
      " 1   1       8001 non-null   float64\n",
      " 2   2       8001 non-null   float64\n",
      " 3   3       8001 non-null   float64\n",
      " 4   4       8001 non-null   float64\n",
      " 5   5       8001 non-null   float64\n",
      " 6   6       8001 non-null   float64\n",
      " 7   7       8001 non-null   float64\n",
      " 8   8       8001 non-null   float64\n",
      " 9   9       8001 non-null   float64\n",
      " 10  10      8001 non-null   float64\n",
      " 11  11      8001 non-null   float64\n",
      " 12  12      8001 non-null   float64\n",
      " 13  13      8001 non-null   float64\n",
      " 14  14      8001 non-null   float64\n",
      " 15  15      8001 non-null   float64\n",
      " 16  16      8001 non-null   float64\n",
      " 17  17      8001 non-null   object \n",
      " 18  18      8001 non-null   float64\n",
      " 19  19      8001 non-null   float64\n",
      " 20  20      8001 non-null   float64\n",
      " 21  21      8001 non-null   float64\n",
      " 22  22      8001 non-null   float64\n",
      " 23  23      8001 non-null   float64\n",
      " 24  24      8001 non-null   float64\n",
      " 25  25      8001 non-null   float64\n",
      " 26  26      8001 non-null   float64\n",
      " 27  27      8001 non-null   float64\n",
      " 28  28      8001 non-null   float64\n",
      "dtypes: float64(28), object(1)\n",
      "memory usage: 1.8+ MB\n"
     ]
    }
   ],
   "source": [
    "# checking the data\n",
    "\n",
    "df.info()"
   ]
  },
  {
   "cell_type": "code",
   "execution_count": 4,
   "id": "e3760d57-cad5-46db-8b13-b9ea0dedf03e",
   "metadata": {},
   "outputs": [
    {
     "name": "stdout",
     "output_type": "stream",
     "text": [
      "float64\n",
      "bool\n"
     ]
    }
   ],
   "source": [
    "# fixing the columns 0 and 17 datatype\n",
    "\n",
    "df.iloc[0,17] = 0.\n",
    "df[17] = df[17].astype(np.float64)\n",
    "df[0] = df[0].astype(np.bool_)\n",
    "print(df[17].dtype)\n",
    "print(df[0].dtype)"
   ]
  },
  {
   "cell_type": "code",
   "execution_count": 5,
   "id": "ab5b9334-99ed-4359-a415-9ab2bc74d618",
   "metadata": {},
   "outputs": [
    {
     "data": {
      "image/png": "[encoded data removed]",
      "text/plain": [
       "<Figure size 640x480 with 1 Axes>"
      ]
     },
     "metadata": {},
     "output_type": "display_data"
    }
   ],
   "source": [
    "# check the frequency of classes in the target column (0)\n",
    "\n",
    "df[0].value_counts(normalize = True).plot.bar()\n",
    "plt.xlabel('Outcome')\n",
    "plt.ylabel('Frequency')\n",
    "plt.show()"
   ]
  },
  {
   "cell_type": "code",
   "execution_count": 6,
   "id": "25f968d0-e97d-4531-9aac-6936e89d4e05",
   "metadata": {},
   "outputs": [
    {
     "data": {
      "text/plain": [
       "0     True\n",
       "1    False\n",
       "2     True\n",
       "Name: 0, dtype: bool"
      ]
     },
     "execution_count": 6,
     "metadata": {},
     "output_type": "execute_result"
    }
   ],
   "source": [
    "# Low-level and High-level input features\n",
    "\n",
    "df_ll = df.iloc[:,1:21+1]\n",
    "df_hl = df.iloc[:,22:28+1]\n",
    "\n",
    "# target\n",
    "target = df.iloc[:,0]\n",
    "target.head(3)"
   ]
  },
  {
   "cell_type": "code",
   "execution_count": 7,
   "id": "c54cb37d-2858-497a-b4c2-0c422640c844",
   "metadata": {},
   "outputs": [],
   "source": [
    "# Data standardization\n",
    "\n",
    "ss_df_ll = StandardScaler().fit_transform(df_ll)\n",
    "ss_df_hl = StandardScaler().fit_transform(df_hl)"
   ]
  },
  {
   "cell_type": "code",
   "execution_count": 8,
   "id": "c19d3f7a-ee3e-462a-8037-1d0c03590b48",
   "metadata": {},
   "outputs": [],
   "source": [
    "# split data\n",
    "\n",
    "xll_train, xll_test, yll_train, yll_test = train_test_split(ss_df_ll, target, test_size=0.25)\n",
    "xhl_train, xhl_test, yhl_train, yhl_test = train_test_split(ss_df_hl, target, test_size=0.25)"
   ]
  },
  {
   "cell_type": "markdown",
   "id": "0b9c7533-8dfd-45a0-82e8-4b70e942b36c",
   "metadata": {},
   "source": [
    "# We construct a parameter grid to find the best model"
   ]
  },
  {
   "cell_type": "code",
   "execution_count": 9,
   "id": "112532d2-62d4-4350-903e-9f26c16f5f7e",
   "metadata": {},
   "outputs": [],
   "source": [
    "# First model - ExtraTreesClassifier\n",
    "\n",
    "ETC_param_grid = {\n",
    "    'max_depth' : [6, 12, None],\n",
    "    'min_samples_split' : [2, 3, 4],\n",
    "    'min_samples_leaf' : [1, 5, 25],\n",
    "    'max_features' : ['sqrt', 'log2', None]}\n",
    "\n",
    "ETC = ExtraTreesClassifier()\n",
    "\n",
    "# Low-level input features\n",
    "ETC_grid_search_ll = GridSearchCV(ETC, param_grid=ETC_param_grid, \n",
    "                                  cv=KFold(n_splits=10, shuffle=True), \n",
    "                                  scoring='roc_auc', n_jobs=-1)\n",
    "ETC_grid_search_ll.fit(xll_train, yll_train)\n",
    "\n",
    "# High-level input features\n",
    "ETC_grid_search_hl = GridSearchCV(ETC, param_grid=ETC_param_grid, \n",
    "                                  cv=KFold(n_splits=10, shuffle=True), \n",
    "                                  scoring='roc_auc', n_jobs=-1)\n",
    "_ = ETC_grid_search_hl.fit(xhl_train, yhl_train)"
   ]
  },
  {
   "cell_type": "code",
   "execution_count": 10,
   "id": "d66dfdcf-1400-44f3-9d8b-32e5e2c616b2",
   "metadata": {},
   "outputs": [],
   "source": [
    "# Second model - KNeighborsClassifier\n",
    "\n",
    "KNC_param_grid = {\n",
    "    'n_neighbors' : [5, 20, 35],\n",
    "    'weights' : [\"uniform\", \"distance\"],\n",
    "    'algorithm' : [\"ball_tree\", \"kd_tree\", \"brute\"],\n",
    "    'leaf_size' : [10, 30, 50]}\n",
    "\n",
    "KNC = KNeighborsClassifier()\n",
    "\n",
    "# Low-level input features\n",
    "KNC_grid_search_ll = GridSearchCV(KNC, param_grid=KNC_param_grid, \n",
    "                                  cv=KFold(n_splits=10, shuffle=True), \n",
    "                                  scoring='roc_auc', n_jobs=-1)\n",
    "KNC_grid_search_ll.fit(xll_train, yll_train)\n",
    "\n",
    "# High-level input features\n",
    "KNC_grid_search_hl = GridSearchCV(KNC, param_grid=KNC_param_grid, \n",
    "                                  cv=KFold(n_splits=10, shuffle=True), \n",
    "                                  scoring='roc_auc', n_jobs=-1)\n",
    "_ = KNC_grid_search_hl.fit(xhl_train, yhl_train)"
   ]
  },
  {
   "cell_type": "markdown",
   "id": "e9e0e048-96dc-401d-902c-aece9d1db1fd",
   "metadata": {
    "jp-MarkdownHeadingCollapsed": true
   },
   "source": [
    "# We rank our estimators based on their performance"
   ]
  },
  {
   "cell_type": "code",
   "execution_count": 11,
   "id": "b03748e1-2bba-47a8-8356-30d893c12cf3",
   "metadata": {},
   "outputs": [
    {
     "data": {
      "text/html": [
       "<div>\n",
       "<style scoped>\n",
       "    .dataframe tbody tr th:only-of-type {\n",
       "        vertical-align: middle;\n",
       "    }\n",
       "\n",
       "    .dataframe tbody tr th {\n",
       "        vertical-align: top;\n",
       "    }\n",
       "\n",
       "    .dataframe thead th {\n",
       "        text-align: right;\n",
       "    }\n",
       "</style>\n",
       "<table border=\"1\" class=\"dataframe\">\n",
       "  <thead>\n",
       "    <tr style=\"text-align: right;\">\n",
       "      <th></th>\n",
       "      <th>mean_test_score</th>\n",
       "      <th>std_test_score</th>\n",
       "      <th>rank_test_score</th>\n",
       "    </tr>\n",
       "  </thead>\n",
       "  <tbody>\n",
       "    <tr>\n",
       "      <th>48</th>\n",
       "      <td>0.657445</td>\n",
       "      <td>0.024340</td>\n",
       "      <td>1</td>\n",
       "    </tr>\n",
       "    <tr>\n",
       "      <th>75</th>\n",
       "      <td>0.657052</td>\n",
       "      <td>0.018684</td>\n",
       "      <td>2</td>\n",
       "    </tr>\n",
       "    <tr>\n",
       "      <th>49</th>\n",
       "      <td>0.656184</td>\n",
       "      <td>0.020707</td>\n",
       "      <td>3</td>\n",
       "    </tr>\n",
       "  </tbody>\n",
       "</table>\n",
       "</div>"
      ],
      "text/plain": [
       "    mean_test_score  std_test_score  rank_test_score\n",
       "48         0.657445        0.024340                1\n",
       "75         0.657052        0.018684                2\n",
       "49         0.656184        0.020707                3"
      ]
     },
     "execution_count": 11,
     "metadata": {},
     "output_type": "execute_result"
    }
   ],
   "source": [
    "ETC_grid_search_results_ll = pd.DataFrame(ETC_grid_search_ll.cv_results_)\n",
    "ETC_grid_search_results_ll.sort_values(by='rank_test_score').iloc[:,-3:].head(3)"
   ]
  },
  {
   "cell_type": "code",
   "execution_count": 12,
   "id": "c19d5927-62ce-41f4-87d2-bda6b44868af",
   "metadata": {},
   "outputs": [
    {
     "data": {
      "text/html": [
       "<div>\n",
       "<style scoped>\n",
       "    .dataframe tbody tr th:only-of-type {\n",
       "        vertical-align: middle;\n",
       "    }\n",
       "\n",
       "    .dataframe tbody tr th {\n",
       "        vertical-align: top;\n",
       "    }\n",
       "\n",
       "    .dataframe thead th {\n",
       "        text-align: right;\n",
       "    }\n",
       "</style>\n",
       "<table border=\"1\" class=\"dataframe\">\n",
       "  <thead>\n",
       "    <tr style=\"text-align: right;\">\n",
       "      <th></th>\n",
       "      <th>mean_test_score</th>\n",
       "      <th>std_test_score</th>\n",
       "      <th>rank_test_score</th>\n",
       "    </tr>\n",
       "  </thead>\n",
       "  <tbody>\n",
       "    <tr>\n",
       "      <th>76</th>\n",
       "      <td>0.768345</td>\n",
       "      <td>0.016371</td>\n",
       "      <td>1</td>\n",
       "    </tr>\n",
       "    <tr>\n",
       "      <th>77</th>\n",
       "      <td>0.768049</td>\n",
       "      <td>0.016160</td>\n",
       "      <td>2</td>\n",
       "    </tr>\n",
       "    <tr>\n",
       "      <th>75</th>\n",
       "      <td>0.767558</td>\n",
       "      <td>0.016760</td>\n",
       "      <td>3</td>\n",
       "    </tr>\n",
       "  </tbody>\n",
       "</table>\n",
       "</div>"
      ],
      "text/plain": [
       "    mean_test_score  std_test_score  rank_test_score\n",
       "76         0.768345        0.016371                1\n",
       "77         0.768049        0.016160                2\n",
       "75         0.767558        0.016760                3"
      ]
     },
     "execution_count": 12,
     "metadata": {},
     "output_type": "execute_result"
    }
   ],
   "source": [
    "ETC_grid_search_results_hl = pd.DataFrame(ETC_grid_search_hl.cv_results_)\n",
    "ETC_grid_search_results_hl.sort_values(by='rank_test_score').iloc[:,-3:].head(3)"
   ]
  },
  {
   "cell_type": "code",
   "execution_count": 13,
   "id": "5bd2c2d5-76d4-4c10-a5ef-c2f50c18cf0a",
   "metadata": {},
   "outputs": [
    {
     "data": {
      "text/html": [
       "<div>\n",
       "<style scoped>\n",
       "    .dataframe tbody tr th:only-of-type {\n",
       "        vertical-align: middle;\n",
       "    }\n",
       "\n",
       "    .dataframe tbody tr th {\n",
       "        vertical-align: top;\n",
       "    }\n",
       "\n",
       "    .dataframe thead th {\n",
       "        text-align: right;\n",
       "    }\n",
       "</style>\n",
       "<table border=\"1\" class=\"dataframe\">\n",
       "  <thead>\n",
       "    <tr style=\"text-align: right;\">\n",
       "      <th></th>\n",
       "      <th>mean_test_score</th>\n",
       "      <th>std_test_score</th>\n",
       "      <th>rank_test_score</th>\n",
       "    </tr>\n",
       "  </thead>\n",
       "  <tbody>\n",
       "    <tr>\n",
       "      <th>53</th>\n",
       "      <td>0.615021</td>\n",
       "      <td>0.018893</td>\n",
       "      <td>1</td>\n",
       "    </tr>\n",
       "    <tr>\n",
       "      <th>17</th>\n",
       "      <td>0.615021</td>\n",
       "      <td>0.018893</td>\n",
       "      <td>1</td>\n",
       "    </tr>\n",
       "    <tr>\n",
       "      <th>29</th>\n",
       "      <td>0.615021</td>\n",
       "      <td>0.018893</td>\n",
       "      <td>1</td>\n",
       "    </tr>\n",
       "  </tbody>\n",
       "</table>\n",
       "</div>"
      ],
      "text/plain": [
       "    mean_test_score  std_test_score  rank_test_score\n",
       "53         0.615021        0.018893                1\n",
       "17         0.615021        0.018893                1\n",
       "29         0.615021        0.018893                1"
      ]
     },
     "execution_count": 13,
     "metadata": {},
     "output_type": "execute_result"
    }
   ],
   "source": [
    "KNC_grid_search_results_ll = pd.DataFrame(KNC_grid_search_ll.cv_results_)\n",
    "KNC_grid_search_results_ll.sort_values(by='rank_test_score').iloc[:,-3:].head(3)"
   ]
  },
  {
   "cell_type": "code",
   "execution_count": 14,
   "id": "9b4a7921-b6ac-4323-a8a4-fb117b26edfb",
   "metadata": {},
   "outputs": [
    {
     "data": {
      "text/html": [
       "<div>\n",
       "<style scoped>\n",
       "    .dataframe tbody tr th:only-of-type {\n",
       "        vertical-align: middle;\n",
       "    }\n",
       "\n",
       "    .dataframe tbody tr th {\n",
       "        vertical-align: top;\n",
       "    }\n",
       "\n",
       "    .dataframe thead th {\n",
       "        text-align: right;\n",
       "    }\n",
       "</style>\n",
       "<table border=\"1\" class=\"dataframe\">\n",
       "  <thead>\n",
       "    <tr style=\"text-align: right;\">\n",
       "      <th></th>\n",
       "      <th>mean_test_score</th>\n",
       "      <th>std_test_score</th>\n",
       "      <th>rank_test_score</th>\n",
       "    </tr>\n",
       "  </thead>\n",
       "  <tbody>\n",
       "    <tr>\n",
       "      <th>53</th>\n",
       "      <td>0.751241</td>\n",
       "      <td>0.014185</td>\n",
       "      <td>1</td>\n",
       "    </tr>\n",
       "    <tr>\n",
       "      <th>23</th>\n",
       "      <td>0.751241</td>\n",
       "      <td>0.014185</td>\n",
       "      <td>1</td>\n",
       "    </tr>\n",
       "    <tr>\n",
       "      <th>5</th>\n",
       "      <td>0.751241</td>\n",
       "      <td>0.014185</td>\n",
       "      <td>1</td>\n",
       "    </tr>\n",
       "  </tbody>\n",
       "</table>\n",
       "</div>"
      ],
      "text/plain": [
       "    mean_test_score  std_test_score  rank_test_score\n",
       "53         0.751241        0.014185                1\n",
       "23         0.751241        0.014185                1\n",
       "5          0.751241        0.014185                1"
      ]
     },
     "execution_count": 14,
     "metadata": {},
     "output_type": "execute_result"
    }
   ],
   "source": [
    "KNC_grid_search_results_hl = pd.DataFrame(KNC_grid_search_hl.cv_results_)\n",
    "KNC_grid_search_results_hl.sort_values(by='rank_test_score').iloc[:,-3:].head(3)"
   ]
  },
  {
   "cell_type": "code",
   "execution_count": 15,
   "id": "7bf63c48-f7a5-453c-9ba2-20c37a3cdea4",
   "metadata": {},
   "outputs": [],
   "source": [
    "# the best models\n",
    "\n",
    "ETC_ll = ETC_grid_search_ll.best_estimator_\n",
    "ETC_hl = ETC_grid_search_hl.best_estimator_\n",
    "KNC_ll = KNC_grid_search_ll.best_estimator_\n",
    "KNC_hl = KNC_grid_search_hl.best_estimator_"
   ]
  },
  {
   "cell_type": "markdown",
   "id": "9fd06dd7-78bc-4feb-a8ef-944e3f19658b",
   "metadata": {},
   "source": [
    "# Neural network model"
   ]
  },
  {
   "cell_type": "code",
   "execution_count": 16,
   "id": "aab01171-53d5-438b-8f96-65ff9a19e005",
   "metadata": {},
   "outputs": [],
   "source": [
    "# We construct a function to generate a loss versus time graph\n",
    "# and a class which improves our appearance when training the model\n",
    "\n",
    "def plot_loss(history, title):\n",
    "    plt.plot(history.history['loss'], label='loss')\n",
    "    plt.plot(history.history['val_loss'], label='val_loss')\n",
    "    plt.xlabel('Epoch')\n",
    "    plt.ylabel('Error')\n",
    "    plt.title(title)\n",
    "    plt.legend()\n",
    "    \n",
    "class EpochDots(tf.keras.callbacks.Callback):\n",
    "    \"\"\"A simple callback that prints a \".\" every epoch, with occasional reports.\n",
    "    \n",
    "    Args:\n",
    "        report_every: How many epochs between full reports\n",
    "        dot_every: How many epochs between dots.\n",
    "    \"\"\"\n",
    "\n",
    "    def __init__(self, report_every=100, dot_every=1):\n",
    "        self.report_every = report_every\n",
    "        self.dot_every = dot_every\n",
    "\n",
    "    def on_epoch_end(self, epoch, logs):\n",
    "        if epoch % self.report_every == 0:\n",
    "            print()\n",
    "            print('Epoch: {:d}, '.format(epoch), end='')\n",
    "            for name, value in sorted(logs.items()):\n",
    "                print('{}:{:0.4f}'.format(name, value), end=',  ')\n",
    "            print()\n",
    "\n",
    "        if epoch % self.dot_every == 0:\n",
    "            print('.', end='', flush=True)"
   ]
  },
  {
   "cell_type": "code",
   "execution_count": 17,
   "id": "a8e45118-e4e1-46d4-aab6-9a138f7801fb",
   "metadata": {},
   "outputs": [],
   "source": [
    "# We define some settings we need\n",
    "\n",
    "num_epochs = 1000\n",
    "group_epochs = 200\n",
    "batch_size = 100\n",
    "\n",
    "# Stop due to convergence\n",
    "early_stop = [EpochDots(group_epochs, 2),\n",
    "              tf.keras.callbacks.EarlyStopping(patience=group_epochs)]"
   ]
  },
  {
   "cell_type": "code",
   "execution_count": 18,
   "id": "2026d475-f8ed-460b-8b83-1e79d3f8a6bd",
   "metadata": {},
   "outputs": [
    {
     "data": {
      "text/html": [
       "<pre style=\"white-space:pre;overflow-x:auto;line-height:normal;font-family:Menlo,'DejaVu Sans Mono',consolas,'Courier New',monospace\"><span style=\"font-weight: bold\">Model: \"ANN_ll\"</span>\n",
       "</pre>\n"
      ],
      "text/plain": [
       "\u001b[1mModel: \"ANN_ll\"\u001b[0m\n"
      ]
     },
     "metadata": {},
     "output_type": "display_data"
    },
    {
     "data": {
      "text/html": [
       "<pre style=\"white-space:pre;overflow-x:auto;line-height:normal;font-family:Menlo,'DejaVu Sans Mono',consolas,'Courier New',monospace\">┏━━━━━━━━━━━━━━━━━━━━━━━━━━━━━━━━━━━━━━┳━━━━━━━━━━━━━━━━━━━━━━━━━━━━━┳━━━━━━━━━━━━━━━━━┓\n",
       "┃<span style=\"font-weight: bold\"> Layer (type)                         </span>┃<span style=\"font-weight: bold\"> Output Shape                </span>┃<span style=\"font-weight: bold\">         Param # </span>┃\n",
       "┡━━━━━━━━━━━━━━━━━━━━━━━━━━━━━━━━━━━━━━╇━━━━━━━━━━━━━━━━━━━━━━━━━━━━━╇━━━━━━━━━━━━━━━━━┩\n",
       "│ dense (<span style=\"color: #0087ff; text-decoration-color: #0087ff\">Dense</span>)                        │ (<span style=\"color: #00d7ff; text-decoration-color: #00d7ff\">None</span>, <span style=\"color: #00af00; text-decoration-color: #00af00\">64</span>)                  │           <span style=\"color: #00af00; text-decoration-color: #00af00\">1,408</span> │\n",
       "├──────────────────────────────────────┼─────────────────────────────┼─────────────────┤\n",
       "│ dropout (<span style=\"color: #0087ff; text-decoration-color: #0087ff\">Dropout</span>)                    │ (<span style=\"color: #00d7ff; text-decoration-color: #00d7ff\">None</span>, <span style=\"color: #00af00; text-decoration-color: #00af00\">64</span>)                  │               <span style=\"color: #00af00; text-decoration-color: #00af00\">0</span> │\n",
       "├──────────────────────────────────────┼─────────────────────────────┼─────────────────┤\n",
       "│ dense_1 (<span style=\"color: #0087ff; text-decoration-color: #0087ff\">Dense</span>)                      │ (<span style=\"color: #00d7ff; text-decoration-color: #00d7ff\">None</span>, <span style=\"color: #00af00; text-decoration-color: #00af00\">32</span>)                  │           <span style=\"color: #00af00; text-decoration-color: #00af00\">2,080</span> │\n",
       "├──────────────────────────────────────┼─────────────────────────────┼─────────────────┤\n",
       "│ dropout_1 (<span style=\"color: #0087ff; text-decoration-color: #0087ff\">Dropout</span>)                  │ (<span style=\"color: #00d7ff; text-decoration-color: #00d7ff\">None</span>, <span style=\"color: #00af00; text-decoration-color: #00af00\">32</span>)                  │               <span style=\"color: #00af00; text-decoration-color: #00af00\">0</span> │\n",
       "├──────────────────────────────────────┼─────────────────────────────┼─────────────────┤\n",
       "│ dense_2 (<span style=\"color: #0087ff; text-decoration-color: #0087ff\">Dense</span>)                      │ (<span style=\"color: #00d7ff; text-decoration-color: #00d7ff\">None</span>, <span style=\"color: #00af00; text-decoration-color: #00af00\">64</span>)                  │           <span style=\"color: #00af00; text-decoration-color: #00af00\">2,112</span> │\n",
       "├──────────────────────────────────────┼─────────────────────────────┼─────────────────┤\n",
       "│ dropout_2 (<span style=\"color: #0087ff; text-decoration-color: #0087ff\">Dropout</span>)                  │ (<span style=\"color: #00d7ff; text-decoration-color: #00d7ff\">None</span>, <span style=\"color: #00af00; text-decoration-color: #00af00\">64</span>)                  │               <span style=\"color: #00af00; text-decoration-color: #00af00\">0</span> │\n",
       "├──────────────────────────────────────┼─────────────────────────────┼─────────────────┤\n",
       "│ dense_3 (<span style=\"color: #0087ff; text-decoration-color: #0087ff\">Dense</span>)                      │ (<span style=\"color: #00d7ff; text-decoration-color: #00d7ff\">None</span>, <span style=\"color: #00af00; text-decoration-color: #00af00\">1</span>)                   │              <span style=\"color: #00af00; text-decoration-color: #00af00\">65</span> │\n",
       "└──────────────────────────────────────┴─────────────────────────────┴─────────────────┘\n",
       "</pre>\n"
      ],
      "text/plain": [
       "┏━━━━━━━━━━━━━━━━━━━━━━━━━━━━━━━━━━━━━━┳━━━━━━━━━━━━━━━━━━━━━━━━━━━━━┳━━━━━━━━━━━━━━━━━┓\n",
       "┃\u001b[1m \u001b[0m\u001b[1mLayer (type)                        \u001b[0m\u001b[1m \u001b[0m┃\u001b[1m \u001b[0m\u001b[1mOutput Shape               \u001b[0m\u001b[1m \u001b[0m┃\u001b[1m \u001b[0m\u001b[1m        Param #\u001b[0m\u001b[1m \u001b[0m┃\n",
       "┡━━━━━━━━━━━━━━━━━━━━━━━━━━━━━━━━━━━━━━╇━━━━━━━━━━━━━━━━━━━━━━━━━━━━━╇━━━━━━━━━━━━━━━━━┩\n",
       "│ dense (\u001b[38;5;33mDense\u001b[0m)                        │ (\u001b[38;5;45mNone\u001b[0m, \u001b[38;5;34m64\u001b[0m)                  │           \u001b[38;5;34m1,408\u001b[0m │\n",
       "├──────────────────────────────────────┼─────────────────────────────┼─────────────────┤\n",
       "│ dropout (\u001b[38;5;33mDropout\u001b[0m)                    │ (\u001b[38;5;45mNone\u001b[0m, \u001b[38;5;34m64\u001b[0m)                  │               \u001b[38;5;34m0\u001b[0m │\n",
       "├──────────────────────────────────────┼─────────────────────────────┼─────────────────┤\n",
       "│ dense_1 (\u001b[38;5;33mDense\u001b[0m)                      │ (\u001b[38;5;45mNone\u001b[0m, \u001b[38;5;34m32\u001b[0m)                  │           \u001b[38;5;34m2,080\u001b[0m │\n",
       "├──────────────────────────────────────┼─────────────────────────────┼─────────────────┤\n",
       "│ dropout_1 (\u001b[38;5;33mDropout\u001b[0m)                  │ (\u001b[38;5;45mNone\u001b[0m, \u001b[38;5;34m32\u001b[0m)                  │               \u001b[38;5;34m0\u001b[0m │\n",
       "├──────────────────────────────────────┼─────────────────────────────┼─────────────────┤\n",
       "│ dense_2 (\u001b[38;5;33mDense\u001b[0m)                      │ (\u001b[38;5;45mNone\u001b[0m, \u001b[38;5;34m64\u001b[0m)                  │           \u001b[38;5;34m2,112\u001b[0m │\n",
       "├──────────────────────────────────────┼─────────────────────────────┼─────────────────┤\n",
       "│ dropout_2 (\u001b[38;5;33mDropout\u001b[0m)                  │ (\u001b[38;5;45mNone\u001b[0m, \u001b[38;5;34m64\u001b[0m)                  │               \u001b[38;5;34m0\u001b[0m │\n",
       "├──────────────────────────────────────┼─────────────────────────────┼─────────────────┤\n",
       "│ dense_3 (\u001b[38;5;33mDense\u001b[0m)                      │ (\u001b[38;5;45mNone\u001b[0m, \u001b[38;5;34m1\u001b[0m)                   │              \u001b[38;5;34m65\u001b[0m │\n",
       "└──────────────────────────────────────┴─────────────────────────────┴─────────────────┘\n"
      ]
     },
     "metadata": {},
     "output_type": "display_data"
    },
    {
     "data": {
      "text/html": [
       "<pre style=\"white-space:pre;overflow-x:auto;line-height:normal;font-family:Menlo,'DejaVu Sans Mono',consolas,'Courier New',monospace\"><span style=\"font-weight: bold\"> Total params: </span><span style=\"color: #00af00; text-decoration-color: #00af00\">5,665</span> (22.13 KB)\n",
       "</pre>\n"
      ],
      "text/plain": [
       "\u001b[1m Total params: \u001b[0m\u001b[38;5;34m5,665\u001b[0m (22.13 KB)\n"
      ]
     },
     "metadata": {},
     "output_type": "display_data"
    },
    {
     "data": {
      "text/html": [
       "<pre style=\"white-space:pre;overflow-x:auto;line-height:normal;font-family:Menlo,'DejaVu Sans Mono',consolas,'Courier New',monospace\"><span style=\"font-weight: bold\"> Trainable params: </span><span style=\"color: #00af00; text-decoration-color: #00af00\">5,665</span> (22.13 KB)\n",
       "</pre>\n"
      ],
      "text/plain": [
       "\u001b[1m Trainable params: \u001b[0m\u001b[38;5;34m5,665\u001b[0m (22.13 KB)\n"
      ]
     },
     "metadata": {},
     "output_type": "display_data"
    },
    {
     "data": {
      "text/html": [
       "<pre style=\"white-space:pre;overflow-x:auto;line-height:normal;font-family:Menlo,'DejaVu Sans Mono',consolas,'Courier New',monospace\"><span style=\"font-weight: bold\"> Non-trainable params: </span><span style=\"color: #00af00; text-decoration-color: #00af00\">0</span> (0.00 B)\n",
       "</pre>\n"
      ],
      "text/plain": [
       "\u001b[1m Non-trainable params: \u001b[0m\u001b[38;5;34m0\u001b[0m (0.00 B)\n"
      ]
     },
     "metadata": {},
     "output_type": "display_data"
    }
   ],
   "source": [
    "# Network architecture \n",
    "# for low-level features\n",
    "ANN_ll = tf.keras.Sequential([\n",
    "    layers.Input(shape=(21,)),\n",
    "    layers.Dense(64, activation='relu'),\n",
    "    layers.Dropout(.5),\n",
    "    layers.Dense(32, activation='relu'),\n",
    "    layers.Dropout(.5),\n",
    "    layers.Dense(64, activation='relu'),\n",
    "    layers.Dropout(.5),\n",
    "    layers.Dense(1)], name='ANN_ll')\n",
    "\n",
    "ANN_ll.compile(loss='binary_crossentropy',\n",
    "              optimizer=tf.keras.optimizers.Adam(learning_rate=0.001),\n",
    "              metrics=[tf.keras.metrics.AUC(name='auc')])\n",
    "\n",
    "ANN_ll.summary()"
   ]
  },
  {
   "cell_type": "code",
   "execution_count": 19,
   "id": "b36bd97e-7217-4936-8eb4-a87eb8b53544",
   "metadata": {},
   "outputs": [
    {
     "data": {
      "text/html": [
       "<pre style=\"white-space:pre;overflow-x:auto;line-height:normal;font-family:Menlo,'DejaVu Sans Mono',consolas,'Courier New',monospace\"><span style=\"font-weight: bold\">Model: \"ANN_hl\"</span>\n",
       "</pre>\n"
      ],
      "text/plain": [
       "\u001b[1mModel: \"ANN_hl\"\u001b[0m\n"
      ]
     },
     "metadata": {},
     "output_type": "display_data"
    },
    {
     "data": {
      "text/html": [
       "<pre style=\"white-space:pre;overflow-x:auto;line-height:normal;font-family:Menlo,'DejaVu Sans Mono',consolas,'Courier New',monospace\">┏━━━━━━━━━━━━━━━━━━━━━━━━━━━━━━━━━━━━━━┳━━━━━━━━━━━━━━━━━━━━━━━━━━━━━┳━━━━━━━━━━━━━━━━━┓\n",
       "┃<span style=\"font-weight: bold\"> Layer (type)                         </span>┃<span style=\"font-weight: bold\"> Output Shape                </span>┃<span style=\"font-weight: bold\">         Param # </span>┃\n",
       "┡━━━━━━━━━━━━━━━━━━━━━━━━━━━━━━━━━━━━━━╇━━━━━━━━━━━━━━━━━━━━━━━━━━━━━╇━━━━━━━━━━━━━━━━━┩\n",
       "│ dense_4 (<span style=\"color: #0087ff; text-decoration-color: #0087ff\">Dense</span>)                      │ (<span style=\"color: #00d7ff; text-decoration-color: #00d7ff\">None</span>, <span style=\"color: #00af00; text-decoration-color: #00af00\">64</span>)                  │             <span style=\"color: #00af00; text-decoration-color: #00af00\">512</span> │\n",
       "├──────────────────────────────────────┼─────────────────────────────┼─────────────────┤\n",
       "│ dropout_3 (<span style=\"color: #0087ff; text-decoration-color: #0087ff\">Dropout</span>)                  │ (<span style=\"color: #00d7ff; text-decoration-color: #00d7ff\">None</span>, <span style=\"color: #00af00; text-decoration-color: #00af00\">64</span>)                  │               <span style=\"color: #00af00; text-decoration-color: #00af00\">0</span> │\n",
       "├──────────────────────────────────────┼─────────────────────────────┼─────────────────┤\n",
       "│ dense_5 (<span style=\"color: #0087ff; text-decoration-color: #0087ff\">Dense</span>)                      │ (<span style=\"color: #00d7ff; text-decoration-color: #00d7ff\">None</span>, <span style=\"color: #00af00; text-decoration-color: #00af00\">32</span>)                  │           <span style=\"color: #00af00; text-decoration-color: #00af00\">2,080</span> │\n",
       "├──────────────────────────────────────┼─────────────────────────────┼─────────────────┤\n",
       "│ dropout_4 (<span style=\"color: #0087ff; text-decoration-color: #0087ff\">Dropout</span>)                  │ (<span style=\"color: #00d7ff; text-decoration-color: #00d7ff\">None</span>, <span style=\"color: #00af00; text-decoration-color: #00af00\">32</span>)                  │               <span style=\"color: #00af00; text-decoration-color: #00af00\">0</span> │\n",
       "├──────────────────────────────────────┼─────────────────────────────┼─────────────────┤\n",
       "│ dense_6 (<span style=\"color: #0087ff; text-decoration-color: #0087ff\">Dense</span>)                      │ (<span style=\"color: #00d7ff; text-decoration-color: #00d7ff\">None</span>, <span style=\"color: #00af00; text-decoration-color: #00af00\">64</span>)                  │           <span style=\"color: #00af00; text-decoration-color: #00af00\">2,112</span> │\n",
       "├──────────────────────────────────────┼─────────────────────────────┼─────────────────┤\n",
       "│ dropout_5 (<span style=\"color: #0087ff; text-decoration-color: #0087ff\">Dropout</span>)                  │ (<span style=\"color: #00d7ff; text-decoration-color: #00d7ff\">None</span>, <span style=\"color: #00af00; text-decoration-color: #00af00\">64</span>)                  │               <span style=\"color: #00af00; text-decoration-color: #00af00\">0</span> │\n",
       "├──────────────────────────────────────┼─────────────────────────────┼─────────────────┤\n",
       "│ dense_7 (<span style=\"color: #0087ff; text-decoration-color: #0087ff\">Dense</span>)                      │ (<span style=\"color: #00d7ff; text-decoration-color: #00d7ff\">None</span>, <span style=\"color: #00af00; text-decoration-color: #00af00\">1</span>)                   │              <span style=\"color: #00af00; text-decoration-color: #00af00\">65</span> │\n",
       "└──────────────────────────────────────┴─────────────────────────────┴─────────────────┘\n",
       "</pre>\n"
      ],
      "text/plain": [
       "┏━━━━━━━━━━━━━━━━━━━━━━━━━━━━━━━━━━━━━━┳━━━━━━━━━━━━━━━━━━━━━━━━━━━━━┳━━━━━━━━━━━━━━━━━┓\n",
       "┃\u001b[1m \u001b[0m\u001b[1mLayer (type)                        \u001b[0m\u001b[1m \u001b[0m┃\u001b[1m \u001b[0m\u001b[1mOutput Shape               \u001b[0m\u001b[1m \u001b[0m┃\u001b[1m \u001b[0m\u001b[1m        Param #\u001b[0m\u001b[1m \u001b[0m┃\n",
       "┡━━━━━━━━━━━━━━━━━━━━━━━━━━━━━━━━━━━━━━╇━━━━━━━━━━━━━━━━━━━━━━━━━━━━━╇━━━━━━━━━━━━━━━━━┩\n",
       "│ dense_4 (\u001b[38;5;33mDense\u001b[0m)                      │ (\u001b[38;5;45mNone\u001b[0m, \u001b[38;5;34m64\u001b[0m)                  │             \u001b[38;5;34m512\u001b[0m │\n",
       "├──────────────────────────────────────┼─────────────────────────────┼─────────────────┤\n",
       "│ dropout_3 (\u001b[38;5;33mDropout\u001b[0m)                  │ (\u001b[38;5;45mNone\u001b[0m, \u001b[38;5;34m64\u001b[0m)                  │               \u001b[38;5;34m0\u001b[0m │\n",
       "├──────────────────────────────────────┼─────────────────────────────┼─────────────────┤\n",
       "│ dense_5 (\u001b[38;5;33mDense\u001b[0m)                      │ (\u001b[38;5;45mNone\u001b[0m, \u001b[38;5;34m32\u001b[0m)                  │           \u001b[38;5;34m2,080\u001b[0m │\n",
       "├──────────────────────────────────────┼─────────────────────────────┼─────────────────┤\n",
       "│ dropout_4 (\u001b[38;5;33mDropout\u001b[0m)                  │ (\u001b[38;5;45mNone\u001b[0m, \u001b[38;5;34m32\u001b[0m)                  │               \u001b[38;5;34m0\u001b[0m │\n",
       "├──────────────────────────────────────┼─────────────────────────────┼─────────────────┤\n",
       "│ dense_6 (\u001b[38;5;33mDense\u001b[0m)                      │ (\u001b[38;5;45mNone\u001b[0m, \u001b[38;5;34m64\u001b[0m)                  │           \u001b[38;5;34m2,112\u001b[0m │\n",
       "├──────────────────────────────────────┼─────────────────────────────┼─────────────────┤\n",
       "│ dropout_5 (\u001b[38;5;33mDropout\u001b[0m)                  │ (\u001b[38;5;45mNone\u001b[0m, \u001b[38;5;34m64\u001b[0m)                  │               \u001b[38;5;34m0\u001b[0m │\n",
       "├──────────────────────────────────────┼─────────────────────────────┼─────────────────┤\n",
       "│ dense_7 (\u001b[38;5;33mDense\u001b[0m)                      │ (\u001b[38;5;45mNone\u001b[0m, \u001b[38;5;34m1\u001b[0m)                   │              \u001b[38;5;34m65\u001b[0m │\n",
       "└──────────────────────────────────────┴─────────────────────────────┴─────────────────┘\n"
      ]
     },
     "metadata": {},
     "output_type": "display_data"
    },
    {
     "data": {
      "text/html": [
       "<pre style=\"white-space:pre;overflow-x:auto;line-height:normal;font-family:Menlo,'DejaVu Sans Mono',consolas,'Courier New',monospace\"><span style=\"font-weight: bold\"> Total params: </span><span style=\"color: #00af00; text-decoration-color: #00af00\">4,769</span> (18.63 KB)\n",
       "</pre>\n"
      ],
      "text/plain": [
       "\u001b[1m Total params: \u001b[0m\u001b[38;5;34m4,769\u001b[0m (18.63 KB)\n"
      ]
     },
     "metadata": {},
     "output_type": "display_data"
    },
    {
     "data": {
      "text/html": [
       "<pre style=\"white-space:pre;overflow-x:auto;line-height:normal;font-family:Menlo,'DejaVu Sans Mono',consolas,'Courier New',monospace\"><span style=\"font-weight: bold\"> Trainable params: </span><span style=\"color: #00af00; text-decoration-color: #00af00\">4,769</span> (18.63 KB)\n",
       "</pre>\n"
      ],
      "text/plain": [
       "\u001b[1m Trainable params: \u001b[0m\u001b[38;5;34m4,769\u001b[0m (18.63 KB)\n"
      ]
     },
     "metadata": {},
     "output_type": "display_data"
    },
    {
     "data": {
      "text/html": [
       "<pre style=\"white-space:pre;overflow-x:auto;line-height:normal;font-family:Menlo,'DejaVu Sans Mono',consolas,'Courier New',monospace\"><span style=\"font-weight: bold\"> Non-trainable params: </span><span style=\"color: #00af00; text-decoration-color: #00af00\">0</span> (0.00 B)\n",
       "</pre>\n"
      ],
      "text/plain": [
       "\u001b[1m Non-trainable params: \u001b[0m\u001b[38;5;34m0\u001b[0m (0.00 B)\n"
      ]
     },
     "metadata": {},
     "output_type": "display_data"
    }
   ],
   "source": [
    "# Network architecture \n",
    "# for high-level features\n",
    "ANN_hl = tf.keras.Sequential([\n",
    "    layers.Input(shape=(7,)),\n",
    "    layers.Dense(64, activation='relu'),\n",
    "    layers.Dropout(.5),\n",
    "    layers.Dense(32, activation='relu'),\n",
    "    layers.Dropout(.5),\n",
    "    layers.Dense(64, activation='relu'),\n",
    "    layers.Dropout(.5),\n",
    "    layers.Dense(1)], name='ANN_hl')\n",
    "\n",
    "ANN_hl.compile(loss='binary_crossentropy',\n",
    "              optimizer=tf.keras.optimizers.Adam(learning_rate=0.001),\n",
    "              metrics=[tf.keras.metrics.AUC(name='auc')])\n",
    "\n",
    "ANN_hl.summary()"
   ]
  },
  {
   "cell_type": "code",
   "execution_count": 20,
   "id": "f8ed787b-a026-4ec8-bee8-84ec4ed493eb",
   "metadata": {},
   "outputs": [
    {
     "name": "stdout",
     "output_type": "stream",
     "text": [
      "\n",
      "Epoch: 0, auc:0.4937,  loss:4.9450,  val_auc:0.5098,  val_loss:0.8713,  \n",
      "....................................................................................................\n",
      "Epoch: 200, auc:0.5503,  loss:0.6974,  val_auc:0.5872,  val_loss:0.6844,  \n",
      "....................................................................................................\n",
      "Epoch: 400, auc:0.6755,  loss:0.6454,  val_auc:0.6369,  val_loss:0.6660,  \n",
      "....................................................................................................\n",
      "Epoch: 600, auc:0.7038,  loss:0.6305,  val_auc:0.6349,  val_loss:0.6614,  \n",
      "....................................................................................................\n",
      "Epoch: 800, auc:0.6944,  loss:0.6498,  val_auc:0.6344,  val_loss:0.6739,  \n",
      ".........................................\n",
      "\n"
     ]
    },
    {
     "data": {
      "image/png": "[encoded data removed]",
      "text/plain": [
       "<Figure size 640x480 with 1 Axes>"
      ]
     },
     "metadata": {},
     "output_type": "display_data"
    }
   ],
   "source": [
    "# checking the model for overfitting and learning ability (low-level features)\n",
    "\n",
    "history_ll = ANN_ll.fit(\n",
    "    xll_train, \n",
    "    yll_train,\n",
    "    batch_size=batch_size,\n",
    "    epochs=num_epochs,\n",
    "    validation_split=0.25,\n",
    "    shuffle=True,\n",
    "    verbose=0,\n",
    "    callbacks=early_stop)\n",
    "\n",
    "print('\\n')\n",
    "plot_loss(history_ll, 'learning from low-level features')"
   ]
  },
  {
   "cell_type": "code",
   "execution_count": 21,
   "id": "8565a115-1d6f-47ae-bc85-5d2178f320d6",
   "metadata": {},
   "outputs": [
    {
     "name": "stdout",
     "output_type": "stream",
     "text": [
      "\n",
      "Epoch: 0, auc:0.4737,  loss:2.4966,  val_auc:0.5443,  val_loss:0.8327,  \n",
      "....................................................................................................\n",
      "Epoch: 200, auc:0.7298,  loss:0.6209,  val_auc:0.7729,  val_loss:0.5855,  \n",
      "....................................................................................................\n",
      "Epoch: 400, auc:0.7493,  loss:0.6097,  val_auc:0.7771,  val_loss:0.5769,  \n",
      "....................................................................................................\n",
      "Epoch: 600, auc:0.7561,  loss:0.5899,  val_auc:0.7810,  val_loss:0.5784,  \n",
      "...............................\n",
      "\n"
     ]
    },
    {
     "data": {
      "image/png": "[encoded data removed]",
      "text/plain": [
       "<Figure size 640x480 with 1 Axes>"
      ]
     },
     "metadata": {},
     "output_type": "display_data"
    }
   ],
   "source": [
    "# checking the model for overfitting and learning ability (high-level features)\n",
    "\n",
    "history_hl = ANN_hl.fit(\n",
    "    xhl_train, \n",
    "    yhl_train,\n",
    "    batch_size=batch_size,\n",
    "    epochs=num_epochs,\n",
    "    validation_split=0.25,\n",
    "    shuffle=True,\n",
    "    verbose=0,\n",
    "    callbacks=early_stop)\n",
    "\n",
    "print('\\n')\n",
    "plot_loss(history_hl, 'learning from high-level features')"
   ]
  },
  {
   "cell_type": "markdown",
   "id": "9aea9d14-835b-4a90-b01f-2ac5d6369c42",
   "metadata": {},
   "source": [
    "# Comparing the models"
   ]
  },
  {
   "cell_type": "code",
   "execution_count": 22,
   "id": "222407da-4246-46c1-9f30-769728a05e55",
   "metadata": {},
   "outputs": [
    {
     "name": "stdout",
     "output_type": "stream",
     "text": [
      "Learning from low-level features\n",
      "Area under the curve\n",
      "ETC = 0.601\n",
      "KNC = 0.564\n",
      "ANN = 0.633\n"
     ]
    }
   ],
   "source": [
    "print('Learning from low-level features')\n",
    "print(\"Area under the curve\")\n",
    "print(f'ETC = {roc_auc_score(yll_test, ETC_ll.predict(xll_test)):.3f}')\n",
    "print(f'KNC = {roc_auc_score(yll_test, KNC_ll.predict(xll_test)):.3f}')\n",
    "print(f'ANN = {roc_auc_score(yll_test, ANN_ll.predict(xll_test, verbose=0)):.3f}')"
   ]
  },
  {
   "cell_type": "code",
   "execution_count": 23,
   "id": "22cb948b-e4d2-4979-9339-8e4c6349515d",
   "metadata": {},
   "outputs": [
    {
     "name": "stdout",
     "output_type": "stream",
     "text": [
      "Learning from low-level features\n",
      "Area under the curve\n",
      "ETC = 0.701\n",
      "KNC = 0.669\n",
      "ANN = 0.770\n"
     ]
    }
   ],
   "source": [
    "print('Learning from low-level features')\n",
    "print(\"Area under the curve\")\n",
    "print(f'ETC = {roc_auc_score(yhl_test, ETC_hl.predict(xhl_test)):.3f}')\n",
    "print(f'KNC = {roc_auc_score(yhl_test, KNC_hl.predict(xhl_test)):.3f}')\n",
    "print(f'ANN = {roc_auc_score(yhl_test, ANN_hl.predict(xhl_test, verbose=0)):.3f}')"
   ]
  },
  {
   "cell_type": "code",
   "execution_count": null,
   "id": "071ef6df-0ff2-48ba-800d-47cac719b3d2",
   "metadata": {},
   "outputs": [],
   "source": []
  }
 ],
 "metadata": {
  "kernelspec": {
   "display_name": "Python 3 (ipykernel)",
   "language": "python",
   "name": "python3"
  },
  "language_info": {
   "codemirror_mode": {
    "name": "ipython",
    "version": 3
   },
   "file_extension": ".py",
   "mimetype": "text/x-python",
   "name": "python",
   "nbconvert_exporter": "python",
   "pygments_lexer": "ipython3",
   "version": "3.12.2"
  }
 },
 "nbformat": 4,
 "nbformat_minor": 5
}
